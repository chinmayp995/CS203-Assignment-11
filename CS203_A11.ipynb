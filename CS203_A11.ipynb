{
  "nbformat": 4,
  "nbformat_minor": 0,
  "metadata": {
    "colab": {
      "provenance": [],
      "gpuType": "T4"
    },
    "kernelspec": {
      "name": "python3",
      "display_name": "Python 3"
    },
    "language_info": {
      "name": "python"
    },
    "accelerator": "GPU"
  },
  "cells": [
    {
      "cell_type": "markdown",
      "source": [
        "## CS203 Assignment 11"
      ],
      "metadata": {
        "id": "kvlcbt5Ehq7p"
      }
    },
    {
      "cell_type": "markdown",
      "source": [
        "## Software Tools and Techniques for AI"
      ],
      "metadata": {
        "id": "6-dMzcGLh0w1"
      }
    },
    {
      "cell_type": "markdown",
      "source": [
        "- Chinmay Pendse (23110245)\n",
        "- Dakshata Bhamare (23210027)\n"
      ],
      "metadata": {
        "id": "XIZGZKkph59u"
      }
    },
    {
      "cell_type": "code",
      "source": [
        "import pandas as pd\n",
        "from sklearn.model_selection import train_test_split\n",
        "from sklearn.feature_extraction.text import TfidfVectorizer\n",
        "import torch\n",
        "from torch.utils.data import DataLoader, TensorDataset\n",
        "import torch.nn as nn\n",
        "import torch.optim as optim\n",
        "import matplotlib.pyplot as plt\n",
        "import time\n",
        "import os"
      ],
      "metadata": {
        "id": "eD9-fjbe4zcB"
      },
      "execution_count": 1,
      "outputs": []
    },
    {
      "cell_type": "code",
      "source": [
        "train_url = \"https://raw.githubusercontent.com/clairett/pytorch-sentiment-classification/master/data/SST2/train.tsv\"\n",
        "test_url = \"https://raw.githubusercontent.com/clairett/pytorch-sentiment-classification/master/data/SST2/test.tsv\"\n",
        "\n",
        "# Load data with header row\n",
        "train_df = pd.read_csv(train_url, sep=\"\\t\")   # will automatically use header\n",
        "test_df = pd.read_csv(test_url, sep=\"\\t\")\n"
      ],
      "metadata": {
        "id": "DM0tprYr45tM"
      },
      "execution_count": 2,
      "outputs": []
    },
    {
      "cell_type": "code",
      "source": [
        "print(train_df.columns)\n",
        "print(test_df.columns)\n"
      ],
      "metadata": {
        "colab": {
          "base_uri": "https://localhost:8080/"
        },
        "id": "Fiyl3RjEivCE",
        "outputId": "feac18ff-abee-4a44-c2dd-27b114d38a91"
      },
      "execution_count": 3,
      "outputs": [
        {
          "output_type": "stream",
          "name": "stdout",
          "text": [
            "Index(['a stirring , funny and finally transporting re imagining of beauty and the beast and 1930s horror films', '1'], dtype='object')\n",
            "Index(['no movement , no yuks , not much of anything', '0'], dtype='object')\n"
          ]
        }
      ]
    },
    {
      "cell_type": "code",
      "source": [
        "train_df = pd.read_csv(train_url, sep=\"\\t\", header=None, names=[\"sentence\", \"label\"])\n",
        "test_df = pd.read_csv(test_url, sep=\"\\t\", header=None, names=[\"sentence\"])"
      ],
      "metadata": {
        "id": "3ag5BiAzi4fn"
      },
      "execution_count": 4,
      "outputs": []
    },
    {
      "cell_type": "code",
      "source": [
        "print(train_df.head())\n",
        "print(test_df.head())\n"
      ],
      "metadata": {
        "colab": {
          "base_uri": "https://localhost:8080/"
        },
        "id": "Ccw3eF0_i79k",
        "outputId": "00d22c42-8915-487d-e78f-f352d88b082f"
      },
      "execution_count": null,
      "outputs": [
        {
          "output_type": "stream",
          "name": "stdout",
          "text": [
            "                                            sentence  label\n",
            "0  a stirring , funny and finally transporting re...      1\n",
            "1  apparently reassembled from the cutting room f...      0\n",
            "2  they presume their audience wo n't sit still f...      0\n",
            "3  this is a visually stunning rumination on love...      1\n",
            "4  jonathan parker 's bartleby should have been t...      1\n",
            "                                                    sentence\n",
            "no movement , no yuks , not much of anything               0\n",
            "a gob of drivel so sickly sweet , even the eage...         0\n",
            "gangs of new york is an unapologetic mess , who...         0\n",
            "we never really feel involved with the story , ...         0\n",
            "this is one of polanski 's best films                      1\n"
          ]
        }
      ]
    },
    {
      "cell_type": "code",
      "source": [
        "# Convert the 'sentence' column in test_df to string type\n",
        "test_df['sentence'] = test_df['sentence'].astype(str)\n",
        "\n",
        "vectorizer = TfidfVectorizer(max_features=5000)\n",
        "X = vectorizer.fit_transform(train_df['sentence']).toarray()\n",
        "X_test = vectorizer.transform(test_df['sentence']).toarray() # This should now work without error\n",
        "\n",
        "# Labels\n",
        "y = train_df['label'].values\n",
        "\n",
        "# Split training data into 80% train, 20% validation\n",
        "X_train, X_val, y_train, y_val = train_test_split(X, y, test_size=0.2, random_state=42)\n",
        "\n",
        "# Final print to verify shapes\n",
        "print(f\"Training data shape: {X_train.shape}\")\n",
        "print(f\"Validation data shape: {X_val.shape}\")\n",
        "print(f\"Test data shape: {X_test.shape}\")"
      ],
      "metadata": {
        "id": "oXcpRtM35aiJ",
        "colab": {
          "base_uri": "https://localhost:8080/"
        },
        "outputId": "189ccfbf-0545-4d79-cde6-6f6f5cc5886b"
      },
      "execution_count": 5,
      "outputs": [
        {
          "output_type": "stream",
          "name": "stdout",
          "text": [
            "Training data shape: (5536, 5000)\n",
            "Validation data shape: (1384, 5000)\n",
            "Test data shape: (1821, 5000)\n"
          ]
        }
      ]
    },
    {
      "cell_type": "code",
      "source": [
        "# Create PyTorch datasets and dataloaders\n",
        "X_train_tensor = torch.tensor(X_train, dtype=torch.float32)\n",
        "y_train_tensor = torch.tensor(y_train, dtype=torch.long)\n",
        "X_val_tensor = torch.tensor(X_val, dtype=torch.float32)\n",
        "y_val_tensor = torch.tensor(y_val, dtype=torch.long)\n",
        "X_test_tensor = torch.tensor(X_test, dtype=torch.float32)\n",
        "\n",
        "train_dataset = TensorDataset(X_train_tensor, y_train_tensor)\n",
        "val_dataset = TensorDataset(X_val_tensor, y_val_tensor)\n",
        "\n",
        "train_loader = DataLoader(train_dataset, batch_size=64, shuffle=True)\n",
        "val_loader = DataLoader(val_dataset, batch_size=64, shuffle=False)"
      ],
      "metadata": {
        "id": "rBHqIb-PlbuI"
      },
      "execution_count": 6,
      "outputs": []
    },
    {
      "cell_type": "code",
      "source": [
        "#defining MLP Model\n",
        "class MLP(nn.Module):\n",
        "    def __init__(self, input_size, hidden_sizes, output_size):\n",
        "        super(MLP, self).__init__()\n",
        "        self.model = nn.Sequential(\n",
        "            nn.Linear(input_size, hidden_sizes[0]), nn.ReLU(),\n",
        "            nn.Linear(hidden_sizes[0], hidden_sizes[1]), nn.ReLU(),\n",
        "            nn.Linear(hidden_sizes[1], hidden_sizes[2]), nn.ReLU(),\n",
        "            nn.Linear(hidden_sizes[2], hidden_sizes[3]), nn.ReLU(),\n",
        "            nn.Linear(hidden_sizes[3], output_size)\n",
        "        )\n",
        "\n",
        "    def forward(self, x):\n",
        "        return self.model(x)\n",
        "\n",
        "input_size = 5000\n",
        "hidden_sizes = [512, 256, 128, 64]\n",
        "output_size = 2\n",
        "\n",
        "model = MLP(input_size, hidden_sizes, output_size)\n",
        "\n",
        "# this fucntions helps counting the number of  trainable parmetrs\n",
        "def count_parameters(model):\n",
        "    return sum(p.numel() for p in model.parameters() if p.requires_grad)\n",
        "\n",
        "print(f\"Trainable Parameters: {count_parameters(model)}\")"
      ],
      "metadata": {
        "colab": {
          "base_uri": "https://localhost:8080/"
        },
        "id": "vFJGebjli7Ix",
        "outputId": "cecd410f-0f83-4af8-8e7b-8a89b2c21fb1"
      },
      "execution_count": 7,
      "outputs": [
        {
          "output_type": "stream",
          "name": "stdout",
          "text": [
            "Trainable Parameters: 2733122\n"
          ]
        }
      ]
    },
    {
      "cell_type": "code",
      "source": [
        "model.eval()"
      ],
      "metadata": {
        "colab": {
          "base_uri": "https://localhost:8080/"
        },
        "id": "ZN1DzsaqlXZw",
        "outputId": "b41ce56e-79c7-4692-b385-57e42435e952"
      },
      "execution_count": 9,
      "outputs": [
        {
          "output_type": "execute_result",
          "data": {
            "text/plain": [
              "MLP(\n",
              "  (model): Sequential(\n",
              "    (0): Linear(in_features=5000, out_features=512, bias=True)\n",
              "    (1): ReLU()\n",
              "    (2): Linear(in_features=512, out_features=256, bias=True)\n",
              "    (3): ReLU()\n",
              "    (4): Linear(in_features=256, out_features=128, bias=True)\n",
              "    (5): ReLU()\n",
              "    (6): Linear(in_features=128, out_features=64, bias=True)\n",
              "    (7): ReLU()\n",
              "    (8): Linear(in_features=64, out_features=2, bias=True)\n",
              "  )\n",
              ")"
            ]
          },
          "metadata": {},
          "execution_count": 9
        }
      ]
    },
    {
      "cell_type": "markdown",
      "source": [],
      "metadata": {
        "id": "EHxujiZRlCDp"
      }
    },
    {
      "cell_type": "code",
      "source": [
        "import torch.optim as optim\n",
        "import matplotlib.pyplot as plt\n",
        "\n",
        "device = torch.device('cuda' if torch.cuda.is_available() else 'cpu')\n",
        "model = model.to(device)\n",
        "criterion = nn.CrossEntropyLoss()\n",
        "optimizer = optim.Adam(model.parameters(), lr=0.001)\n"
      ],
      "metadata": {
        "id": "yXblLh-YjkVI"
      },
      "execution_count": 10,
      "outputs": []
    },
    {
      "cell_type": "code",
      "source": [
        "# Training the model\n",
        "best_val_acc = 0.0\n",
        "train_losses = []\n",
        "val_losses = []\n",
        "val_accuracies = []\n",
        "\n",
        "for epoch in range(10):\n",
        "    model.train()\n",
        "    running_loss = 0.0\n",
        "    for inputs, labels in train_loader:\n",
        "        inputs, labels = inputs.to(device), labels.to(device)\n",
        "        optimizer.zero_grad()\n",
        "        outputs = model(inputs)\n",
        "        loss = criterion(outputs, labels)\n",
        "        loss.backward()\n",
        "        optimizer.step()\n",
        "        running_loss += loss.item()\n",
        "    train_losses.append(running_loss / len(train_loader))\n",
        "\n",
        "    # Validation\n",
        "    model.eval()\n",
        "    val_loss = 0.0\n",
        "    correct = 0\n",
        "    total = 0\n",
        "    with torch.no_grad():\n",
        "        for inputs, labels in val_loader:\n",
        "            inputs, labels = inputs.to(device), labels.to(device)\n",
        "            outputs = model(inputs)\n",
        "            loss = criterion(outputs, labels)\n",
        "            val_loss += loss.item()\n",
        "            _, predicted = torch.max(outputs.data, 1)\n",
        "            total += labels.size(0)\n",
        "            correct += (predicted == labels).sum().item()\n",
        "    val_losses.append(val_loss / len(val_loader))\n",
        "    val_acc = 100 * correct / total\n",
        "    val_accuracies.append(val_acc)\n",
        "    print(f\"Epoch {epoch+1}: Train Loss={train_losses[-1]:.4f}, Val Loss={val_losses[-1]:.4f}, Val Acc={val_acc:.2f}%\")\n",
        "\n",
        "    # this saves the best checkpoint\n",
        "    if val_acc > best_val_acc:\n",
        "        best_val_acc = val_acc\n",
        "        torch.save(model.state_dict(), 'checkpoint.pt')\n",
        "\n",
        "# pltig  validation accuracy and loss\n",
        "epochs = range(1, 11)\n",
        "plt.figure(figsize=(12, 5))\n",
        "plt.subplot(1, 2, 1)\n",
        "plt.plot(epochs, train_losses, label='Train Loss')\n",
        "plt.plot(epochs, val_losses, label='Val Loss')\n",
        "plt.xlabel('Epochs')\n",
        "plt.ylabel('Loss')\n",
        "plt.title('Loss over Epochs')\n",
        "plt.legend()\n",
        "plt.subplot(1, 2, 2)\n",
        "plt.plot(epochs, val_accuracies, label='Val Accuracy')\n",
        "plt.xlabel('Epochs')\n",
        "plt.ylabel('Accuracy (%)')\n",
        "plt.title('Validation Accuracy over Epochs')\n",
        "plt.legend()\n",
        "plt.tight_layout()\n",
        "plt.show()"
      ],
      "metadata": {
        "colab": {
          "base_uri": "https://localhost:8080/",
          "height": 681
        },
        "id": "JC5O7Fu0j1hJ",
        "outputId": "1c4a5c76-5859-4955-e324-6ea89dffb003"
      },
      "execution_count": 11,
      "outputs": [
        {
          "output_type": "stream",
          "name": "stdout",
          "text": [
            "Epoch 1: Train Loss=0.6051, Val Loss=0.4660, Val Acc=77.82%\n",
            "Epoch 2: Train Loss=0.3026, Val Loss=0.4478, Val Acc=78.47%\n",
            "Epoch 3: Train Loss=0.1332, Val Loss=0.6262, Val Acc=78.32%\n",
            "Epoch 4: Train Loss=0.0334, Val Loss=1.0482, Val Acc=77.24%\n",
            "Epoch 5: Train Loss=0.0068, Val Loss=1.4527, Val Acc=78.83%\n",
            "Epoch 6: Train Loss=0.0016, Val Loss=1.8915, Val Acc=78.32%\n",
            "Epoch 7: Train Loss=0.0019, Val Loss=1.8030, Val Acc=78.83%\n",
            "Epoch 8: Train Loss=0.0012, Val Loss=1.8785, Val Acc=78.83%\n",
            "Epoch 9: Train Loss=0.0010, Val Loss=1.9587, Val Acc=78.83%\n",
            "Epoch 10: Train Loss=0.0009, Val Loss=2.2775, Val Acc=77.31%\n"
          ]
        },
        {
          "output_type": "display_data",
          "data": {
            "text/plain": [
              "<Figure size 1200x500 with 2 Axes>"
            ],
            "image/png": "[encoded data removed]"
          },
          "metadata": {}
        }
      ]
    },
    {
      "cell_type": "code",
      "source": [
        "model = MLP(input_size, hidden_sizes, output_size)\n",
        "model.load_state_dict(torch.load(\"checkpoint.pt\"))\n",
        "model.eval()"
      ],
      "metadata": {
        "id": "bRdMosDzoMC9",
        "colab": {
          "base_uri": "https://localhost:8080/"
        },
        "outputId": "7bf3acd0-5ec4-43da-c939-3ac76a8d5fa7"
      },
      "execution_count": 12,
      "outputs": [
        {
          "output_type": "execute_result",
          "data": {
            "text/plain": [
              "MLP(\n",
              "  (model): Sequential(\n",
              "    (0): Linear(in_features=5000, out_features=512, bias=True)\n",
              "    (1): ReLU()\n",
              "    (2): Linear(in_features=512, out_features=256, bias=True)\n",
              "    (3): ReLU()\n",
              "    (4): Linear(in_features=256, out_features=128, bias=True)\n",
              "    (5): ReLU()\n",
              "    (6): Linear(in_features=128, out_features=64, bias=True)\n",
              "    (7): ReLU()\n",
              "    (8): Linear(in_features=64, out_features=2, bias=True)\n",
              "  )\n",
              ")"
            ]
          },
          "metadata": {},
          "execution_count": 12
        }
      ]
    },
    {
      "cell_type": "code",
      "source": [
        "# defining a dynamic model\n",
        "model_dynamic = torch.quantization.quantize_dynamic(\n",
        "    model, {nn.Linear}, dtype=torch.qint8\n",
        ")\n",
        "\n",
        "# defining a Half Precision model\n",
        "model_half = MLP(input_size=5000, hidden_sizes=[512, 256, 128, 64], output_size=2).to(device)\n",
        "model_half.load_state_dict(torch.load(\"checkpoint.pt\"))\n",
        "model_half = model_half.half()  #casting float16"
      ],
      "metadata": {
        "id": "1rbjHpLOmqoV"
      },
      "execution_count": 13,
      "outputs": []
    },
    {
      "cell_type": "code",
      "source": [
        "# checking the type of model parameters\n",
        "for param in model.parameters():\n",
        "    print(param.dtype)\n",
        "    break"
      ],
      "metadata": {
        "colab": {
          "base_uri": "https://localhost:8080/"
        },
        "id": "X8zNz35FnLz4",
        "outputId": "8ecb68e7-eafa-4fb4-b919-728b982ee48e"
      },
      "execution_count": 14,
      "outputs": [
        {
          "output_type": "stream",
          "name": "stdout",
          "text": [
            "torch.float32\n"
          ]
        }
      ]
    },
    {
      "cell_type": "markdown",
      "source": [
        "Defining some functions to compare"
      ],
      "metadata": {
        "id": "UYQYoSBLivG8"
      }
    },
    {
      "cell_type": "code",
      "source": [
        "def measure_inference_time(model, loader, use_half=False, use_dynamic=False):\n",
        "    model.eval()\n",
        "\n",
        "    if use_dynamic:\n",
        "        device_eval = torch.device(\"cpu\")\n",
        "        model.to(device_eval)\n",
        "    else:\n",
        "        device_eval = device\n",
        "        model.to(device_eval)\n",
        "        if use_half:\n",
        "            model = model.half()\n",
        "\n",
        "    total_time = 0\n",
        "    total_samples = 0\n",
        "\n",
        "    with torch.no_grad():\n",
        "        for batch in loader:\n",
        "            if isinstance(batch, dict):\n",
        "                X_batch = batch['input']\n",
        "            else:\n",
        "                X_batch, _ = batch\n",
        "            X_batch = X_batch.to(device_eval)\n",
        "            if use_half:\n",
        "                X_batch = X_batch.half()\n",
        "\n",
        "            start = time.time()\n",
        "            _ = model(X_batch)\n",
        "            end = time.time()\n",
        "\n",
        "            total_time += (end - start)\n",
        "            total_samples += X_batch.size(0)\n",
        "\n",
        "    avg_time_ms = (total_time / total_samples) * 1000\n",
        "    return avg_time_ms\n",
        "\n",
        "\n",
        "\n",
        "original_inference_time = measure_inference_time(model, val_loader)\n",
        "dynamic_inference_time = measure_inference_time(model_dynamic, val_loader, use_dynamic=True)\n",
        "half_inference_time = measure_inference_time(model_half, val_loader, use_half=True)\n",
        "\n"
      ],
      "metadata": {
        "id": "GkOXQ1qPnW9C"
      },
      "execution_count": 15,
      "outputs": []
    },
    {
      "cell_type": "code",
      "source": [
        "# Accuracy\n",
        "def evaluate_accuracy(model, loader, use_half=False, use_dynamic=False):\n",
        "    model.eval()\n",
        "\n",
        "    # Handle dynamic quantized models on CPU\n",
        "    if use_dynamic:\n",
        "        device_eval = torch.device(\"cpu\")\n",
        "        model.to(device_eval)\n",
        "    else:\n",
        "        device_eval = device\n",
        "        model.to(device_eval)\n",
        "        if use_half:\n",
        "            model = model.half()\n",
        "\n",
        "    correct, total = 0, 0\n",
        "    with torch.no_grad():\n",
        "        for batch in loader:\n",
        "            if isinstance(batch, dict):\n",
        "                X_batch = batch['input']\n",
        "                y_batch = batch['label']\n",
        "            else:\n",
        "                X_batch, y_batch = batch\n",
        "\n",
        "            X_batch, y_batch = X_batch.to(device_eval), y_batch.to(device_eval)\n",
        "            if use_half:\n",
        "                X_batch = X_batch.half()\n",
        "\n",
        "            outputs = model(X_batch)\n",
        "            _, predicted = torch.max(outputs, 1)\n",
        "            total += y_batch.size(0)\n",
        "            correct += (predicted == y_batch).sum().item()\n",
        "\n",
        "    return 100 * correct / total\n",
        "\n",
        "\n",
        "original_accuracy = evaluate_accuracy(model, val_loader)\n",
        "dynamic_accuracy = evaluate_accuracy(model_dynamic, val_loader, use_dynamic=True)\n",
        "half_accuracy = evaluate_accuracy(model_half, val_loader, use_half=True)\n"
      ],
      "metadata": {
        "id": "tnMQPrfYnBL8"
      },
      "execution_count": 16,
      "outputs": []
    },
    {
      "cell_type": "code",
      "source": [
        "import os\n",
        "\n",
        "def get_model_size(path):\n",
        "    return os.path.getsize(path) / (1024 * 1024)  # Size in MB\n",
        "\n",
        "torch.save(model.state_dict(), \"original_model.pt\")\n",
        "torch.save(model_dynamic.state_dict(), \"dynamic_model.pt\")\n",
        "torch.save(model_half.state_dict(), \"half_model.pt\")\n",
        "\n",
        "original_size = get_model_size(\"original_model.pt\")\n",
        "dynamic_size = get_model_size(\"dynamic_model.pt\")\n",
        "half_size = get_model_size(\"half_model.pt\")\n",
        "\n",
        "print(\"| S.I. | Model    | Accuracy (%) | Storage (MB) | Inference Time (ms) |\")\n",
        "print(\"|------|----------|--------------|---------------|----------------------|\")\n",
        "print(f\"| 1    | Original | {original_accuracy:.2f}       | {original_size:.2f} MB      | {original_inference_time:.2f} ms         |\")\n",
        "print(f\"| 2    | Dynamic  | {dynamic_accuracy:.2f}       | {dynamic_size:.2f} MB      | {dynamic_inference_time:.2f} ms         |\")\n",
        "print(f\"| 3    | Half     | {half_accuracy:.2f}       | {half_size:.2f} MB      | {half_inference_time:.2f} ms         |\")\n"
      ],
      "metadata": {
        "colab": {
          "base_uri": "https://localhost:8080/"
        },
        "id": "YzOQoLthg88c",
        "outputId": "3bb6fd25-5fb9-489f-924c-1f54b03233cf"
      },
      "execution_count": 17,
      "outputs": [
        {
          "output_type": "stream",
          "name": "stdout",
          "text": [
            "| S.I. | Model    | Accuracy (%) | Storage (MB) | Inference Time (ms) |\n",
            "|------|----------|--------------|---------------|----------------------|\n",
            "| 1    | Original | 78.83       | 10.43 MB      | 0.01 ms         |\n",
            "| 2    | Dynamic  | 78.83       | 2.62 MB      | 0.08 ms         |\n",
            "| 3    | Half     | 78.83       | 5.22 MB      | 0.10 ms         |\n"
          ]
        }
      ]
    },
    {
      "cell_type": "markdown",
      "source": [
        "## End of Assignment. Thank You"
      ],
      "metadata": {
        "id": "TBDJC8EshbKI"
      }
    }
  ]
}